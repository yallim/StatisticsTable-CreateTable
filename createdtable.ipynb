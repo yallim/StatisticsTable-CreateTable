{
 "cells": [
  {
   "cell_type": "code",
   "execution_count": 2,
   "id": "004487c4-ce6d-439e-aa49-3df3686a17f1",
   "metadata": {},
   "outputs": [],
   "source": [
    "import pymysql\n",
    "import pandas as pd\n",
    "import json\n",
    "from datetime import datetime, timedelta,date\n",
    "\n",
    "\n",
    "# TODO implement\n",
    "# from sshtunnel import SSHTunnelForwarder\n",
    "conn = pymysql.connect(host='db-chatbot.-.ap-northeast-2.rds.amazonaws.com', \n",
    "                     port = 3306,\n",
    "                     user='user',\n",
    "                     database='DB',\n",
    "                     password = PS',\n",
    "                     charset='utf8')  \n",
    "\n",
    "\n",
    "cursor = conn.cursor()\n",
    "\n",
    "query = '''SELECT el.createdAt,el.botId,el.chatUserId,el.projectId,el.outputData,b.botTypeId \n",
    "FROM EngineLog el \n",
    "RIGHT OUTER JOIN Bot b \n",
    "ON el.botId = b.id\n",
    "where b.botTypeId is not null\n",
    "AND el.botId NOT IN (0) AND el.type = 'INFO'\n",
    "AND NOT REGEXP_LIKE(inputData ,에임메드')  \n",
    "group by el.createdAt\n",
    "order by el.createdAt,el.botId,el.projectId,el.chatUserId\n",
    "'''\n",
    "cursor.execute(query)\n",
    "conn.commit()"
   ]
  },
  {
   "cell_type": "code",
   "execution_count": 3,
   "id": "0fc98313-54a2-4131-a693-fb0493827a94",
   "metadata": {},
   "outputs": [
    {
     "name": "stderr",
     "output_type": "stream",
     "text": [
      "/tmp/ipykernel_1679457/3807537479.py:5: UserWarning: pandas only supports SQLAlchemy connectable (engine/connection) or database string URI or sqlite3 DBAPI2 connection. Other DBAPI2 objects are not tested. Please consider using SQLAlchemy.\n",
      "  df = pd.read_sql(query, conn)\n"
     ]
    }
   ],
   "source": [
    "pd.set_option('display.max_colwidth', None)\n",
    "pd.set_option('display.max_columns', None) \n",
    "pd.set_option('display.max_rows', None) \n",
    "\n",
    "df = pd.read_sql(query, conn)\n",
    "\n",
    "df = df.sort_values(['botId','chatUserId','projectId','botTypeId'])\n",
    "df = df.reset_index()"
   ]
  },
  {
   "cell_type": "code",
   "execution_count": 4,
   "id": "8d05fd53-20b1-4be0-a20e-0cb9b71dcce7",
   "metadata": {},
   "outputs": [],
   "source": [
    "# df[(df['botId']==390)&(df['projectId']==3)]"
   ]
  },
  {
   "cell_type": "code",
   "execution_count": 5,
   "id": "3c93484c-e302-4896-9493-ab086485ba90",
   "metadata": {},
   "outputs": [],
   "source": [
    "class User_daily:\n",
    "    def __init__(self,start_At_list=[],end_At_list=[],dialogue_list=[],dialogue=[],dialog_count=[]):\n",
    "        self.start_At_list = start_At_list\n",
    "        self.end_At_list = end_At_list\n",
    "        self.dialogue_list = dialogue_list\n",
    "        self.dialog_count = dialog_count\n",
    "        \n",
    "    def list_append(self,start,end,dialogue):\n",
    "        self.start_At_list.append(start)\n",
    "        self.end_At_list.append(end)\n",
    "        self.dialogue_list.append(dialogue)\n",
    "        return self.start_At_list,self.end_At_list,self.dialogue_list\n",
    "        \n",
    "    def daily_date(self,key):\n",
    "        self.start_answer = df['outputData'][key].count(\"\\\"answer\\\"\")\n",
    "        self.end_answer = df['outputData'][key+1].count(\"\\\"answer\\\"\")\n",
    "\n",
    "def Using_static_daily():\n",
    "    Us_list = User_daily() #-1값 처리필요\n",
    "    for idx in range(len(df)-1):\n",
    "        Us_list.daily_date(idx)\n",
    "        if(idx == len(df)-1):\n",
    "            Us_list.list_append('-','-',0)\n",
    "            continue\n",
    "        else:\n",
    "            try:\n",
    "                if(Us_list.start_answer==1 and Us_list.end_answer==1):\n",
    "                    Us_list.list_append(df.at[idx,'createdAt'],df.at[idx,'createdAt'],1)\n",
    "                elif(Us_list.start_answer==1 and Us_list.end_answer!=1):\n",
    "                    Us_list.list_append(df.at[idx,'createdAt'],df.at[idx+1,'createdAt'],Us_list.start_answer)\n",
    "                elif(Us_list.start_answer!=1 and Us_list.end_answer==1):\n",
    "                    Us_list.list_append(\"-\",df.at[idx,'createdAt'],Us_list.start_answer)\n",
    "                elif(Us_list.start_answer!=1 and Us_list.end_answer!=1):\n",
    "                    Us_list.list_append(\"-\",\"-\",Us_list.start_answer)\n",
    "                else:\n",
    "                    Us_list.list_append(df.at[idx,'createdAt'],df.at[idx,'createdAt'],Us_list.start_answer)\n",
    "            except IndexError as e:\n",
    "                print(\"error\")\n",
    "        for dialog in Us_list.dialogue_list:\n",
    "            if(dialog==1):\n",
    "                Us_list.dialog_count.append(1)\n",
    "            else:\n",
    "                Us_list.dialog_count.append('-')\n",
    "    df_st = pd.DataFrame(list(zip(df['botId'],df['chatUserId'],df['projectId'],Us_list.start_At_list,Us_list.end_At_list,Us_list.dialog_count,Us_list.dialogue_list,df['botTypeId'])), columns =['botId','chatUserId','projectId','startAt', 'endAt','dialog','dialogueCount','botTypeId']) \n",
    "    return df_st"
   ]
  },
  {
   "cell_type": "code",
   "execution_count": 6,
   "id": "fb9edd2b-b15c-4408-aa26-3832a3155a30",
   "metadata": {},
   "outputs": [
    {
     "name": "stderr",
     "output_type": "stream",
     "text": [
      "/tmp/ipykernel_1679457/1179838099.py:6: SettingWithCopyWarning: \n",
      "A value is trying to be set on a copy of a slice from a DataFrame\n",
      "\n",
      "See the caveats in the documentation: https://pandas.pydata.org/pandas-docs/stable/user_guide/indexing.html#returning-a-view-versus-a-copy\n",
      "  df_st['startAt'].iloc[-1] = df_st['endAt'].iloc[-1]\n"
     ]
    }
   ],
   "source": [
    "df_st=Using_static_daily()\n",
    "df_st.drop(df_st[(df_st['startAt'] =='-') & (df_st['endAt'] =='-')].index,inplace=True)\n",
    "if(df_st['endAt'].iloc[-1]=='-'):\n",
    "    df_st['endAt'].iloc[-1] = df_st['startAt'].iloc[-1]\n",
    "else:\n",
    "    df_st['startAt'].iloc[-1] = df_st['endAt'].iloc[-1]\n",
    "df_st.reset_index(drop=True,inplace=True)"
   ]
  },
  {
   "cell_type": "code",
   "execution_count": 7,
   "id": "b7a92e19-c8e4-4bca-9962-8355e43ac749",
   "metadata": {},
   "outputs": [],
   "source": [
    "# df_st.drop(df_st[(df_st['startAt'] =='-') & (df_st['endAt'] =='-')].index,inplace=True)\n",
    "# if(df_st['endAt'].iloc[-1]!='-'):\n",
    "#     df_st['endAt'].iloc[-1] = df_st['startAt'].iloc[-1]\n",
    "# else:\n",
    "#     df_st['startAt'].iloc[-1] = df_st['endAt'].iloc[-1]\n",
    "# df_st.reset_index(drop=True,inplace=True)"
   ]
  },
  {
   "cell_type": "code",
   "execution_count": 8,
   "id": "5fde0a4b-dee8-4307-8be7-c01b5120cafa",
   "metadata": {},
   "outputs": [],
   "source": [
    "for i in range(len(df_st)):\n",
    "    if(df_st.at[i,'dialogueCount']==1):\n",
    "        df_st.at[i,'dialog']=1"
   ]
  },
  {
   "cell_type": "code",
   "execution_count": 9,
   "id": "55d5af6c-3c8e-4baf-878a-0ee9ca2dc691",
   "metadata": {},
   "outputs": [],
   "source": [
    "for idx in range(0,len(df_st['endAt'])-1):\n",
    "    if(df_st.at[idx+1,'startAt']==\"-\"):\n",
    "        df_st.at[idx,'endAt']=df_st.at[idx+1,'endAt']\n",
    "        df_st.at[idx,'dialogueCount']=df_st.at[idx+1,'dialogueCount']\n",
    "    else:\n",
    "        pass\n",
    "df_st.drop(df_st[(df_st['startAt'] =='-')].index,inplace=True)"
   ]
  },
  {
   "cell_type": "code",
   "execution_count": 10,
   "id": "ee0dcf71-2a56-4729-8467-add60882ba00",
   "metadata": {},
   "outputs": [],
   "source": [
    "# for idx in range(0,len(df_st['endAt'])-1):\n",
    "#     if(df_st.at[idx,'endAt']==(\"-\")):\n",
    "#         if(df_st['botId'][idx]==df_st['botId'][idx+1] and df_st['chatUserId'][idx]==df_st['chatUserId'][idx+1] and df_st['projectId'][idx]==df_st['projectId'][idx+1]):\n",
    "#             df_st.at[idx,'endAt'] = df_st.at[idx+1,'endAt']\n",
    "#             df_st.at[idx,'dialogueCount'] = df_st.at[idx+1,'dialogueCount']\n",
    "#         else:\n",
    "#             df_st.at[idx,'endAt'] = df_st.at[idx,'startAt']\n",
    "#     else:\n",
    "#         pass\n",
    "# df_st.drop(df_st[(df_st['startAt'] =='-')].index,inplace=True)"
   ]
  },
  {
   "cell_type": "code",
   "execution_count": 11,
   "id": "2fc59592-5ff2-4dac-8642-a670fcdda69b",
   "metadata": {},
   "outputs": [],
   "source": [
    "## ToDate -- 구분일자\n",
    "df_st['ToDate'] =  pd.to_datetime(df_st['startAt']).dt.date"
   ]
  },
  {
   "cell_type": "code",
   "execution_count": 12,
   "id": "e6311f54-7b6d-4bc9-b7e7-eea4408d5cb8",
   "metadata": {},
   "outputs": [],
   "source": [
    "# df_st.sort_values('ToDate')"
   ]
  },
  {
   "cell_type": "code",
   "execution_count": null,
   "id": "4a0765e8-5712-4804-91ae-87fd5561012b",
   "metadata": {},
   "outputs": [],
   "source": []
  },
  {
   "cell_type": "code",
   "execution_count": 13,
   "id": "8265b421-5ae6-4dde-b71f-91dc548f8d6e",
   "metadata": {},
   "outputs": [],
   "source": [
    "## 일별 활성 유저수 DayUserCnt\n",
    "## botId,projectId,chatUserId,botTypeId로 구분 된 값에서 botId,projectId,botTypeId로 집계 된 dialog의 개수\n",
    "df_day = df_st.groupby(['ToDate','botId','projectId','chatUserId','botTypeId'],as_index=False)['dialog'].count().groupby(['ToDate','botId','projectId','botTypeId'],as_index=False)['dialog'].count()\n",
    "df_day=df_day.rename(columns={\"dialog\": \"DayUsrCnt\"})\n",
    "\n",
    "## 일별 세션 수 DaySesCnt\n",
    "df_day['DaySesCnt']=df_st.groupby(['ToDate','botId','projectId','botTypeId'],as_index=False)['dialog'].count()['dialog']\n",
    "\n",
    "##일별 채팅 수 DayChtCnt\n",
    "df_day['DayChtCnt']=df_st.groupby(by=[\"ToDate\",\"botId\",\"projectId\",'botTypeId'],as_index=False)['dialogueCount'].sum()['dialogueCount']\n"
   ]
  },
  {
   "cell_type": "code",
   "execution_count": 14,
   "id": "c86ea08a-dff7-4dfb-9ae4-600c1cf5bc04",
   "metadata": {},
   "outputs": [],
   "source": [
    "df_day['AccChtCnt']=df_day.groupby(by=['projectId','botTypeId'],as_index=False)['DayChtCnt'].cumsum()\n",
    "df_day['AccSesCnt']=df_day.groupby(by=['projectId','botTypeId'],as_index=False)['DaySesCnt'].cumsum()"
   ]
  },
  {
   "cell_type": "code",
   "execution_count": 15,
   "id": "06e3bda3-9e2d-4a76-96a5-825d0bf1ecf8",
   "metadata": {},
   "outputs": [
    {
     "data": {
      "text/html": [
       "<div>\n",
       "<style scoped>\n",
       "    .dataframe tbody tr th:only-of-type {\n",
       "        vertical-align: middle;\n",
       "    }\n",
       "\n",
       "    .dataframe tbody tr th {\n",
       "        vertical-align: top;\n",
       "    }\n",
       "\n",
       "    .dataframe thead th {\n",
       "        text-align: right;\n",
       "    }\n",
       "</style>\n",
       "<table border=\"1\" class=\"dataframe\">\n",
       "  <thead>\n",
       "    <tr style=\"text-align: right;\">\n",
       "      <th></th>\n",
       "      <th>botId</th>\n",
       "      <th>chatUserId</th>\n",
       "      <th>projectId</th>\n",
       "      <th>startAt</th>\n",
       "      <th>endAt</th>\n",
       "      <th>dialog</th>\n",
       "      <th>dialogueCount</th>\n",
       "      <th>botTypeId</th>\n",
       "      <th>ToDate</th>\n",
       "    </tr>\n",
       "  </thead>\n",
       "  <tbody>\n",
       "    <tr>\n",
       "      <th>0</th>\n",
       "      <td>348</td>\n",
       "      <td>3133</td>\n",
       "      <td>1</td>\n",
       "      <td>2023-07-07 15:19:19.108000</td>\n",
       "      <td>2023-07-07 15:21:06.535000</td>\n",
       "      <td>1</td>\n",
       "      <td>6</td>\n",
       "      <td>2</td>\n",
       "      <td>2023-07-07</td>\n",
       "    </tr>\n",
       "    <tr>\n",
       "      <th>1</th>\n",
       "      <td>348</td>\n",
       "      <td>3133</td>\n",
       "      <td>1</td>\n",
       "      <td>2023-07-14 14:39:49.302000</td>\n",
       "      <td>2023-07-14 14:39:55.801000</td>\n",
       "      <td>1</td>\n",
       "      <td>3</td>\n",
       "      <td>2</td>\n",
       "      <td>2023-07-14</td>\n",
       "    </tr>\n",
       "    <tr>\n",
       "      <th>2</th>\n",
       "      <td>348</td>\n",
       "      <td>3415</td>\n",
       "      <td>1</td>\n",
       "      <td>2023-07-12 21:08:55.726000</td>\n",
       "      <td>2023-07-12 21:09:12.058000</td>\n",
       "      <td>1</td>\n",
       "      <td>2</td>\n",
       "      <td>2</td>\n",
       "      <td>2023-07-12</td>\n",
       "    </tr>\n",
       "    <tr>\n",
       "      <th>3</th>\n",
       "      <td>348</td>\n",
       "      <td>3460</td>\n",
       "      <td>1</td>\n",
       "      <td>2023-07-19 15:51:06.854000</td>\n",
       "      <td>2023-07-19 15:51:16.148000</td>\n",
       "      <td>1</td>\n",
       "      <td>2</td>\n",
       "      <td>2</td>\n",
       "      <td>2023-07-19</td>\n",
       "    </tr>\n",
       "    <tr>\n",
       "      <th>4</th>\n",
       "      <td>348</td>\n",
       "      <td>3466</td>\n",
       "      <td>1</td>\n",
       "      <td>2023-10-30 09:16:41.834000</td>\n",
       "      <td>2023-10-30 09:16:51.739000</td>\n",
       "      <td>1</td>\n",
       "      <td>3</td>\n",
       "      <td>2</td>\n",
       "      <td>2023-10-30</td>\n",
       "    </tr>\n",
       "  </tbody>\n",
       "</table>\n",
       "</div>"
      ],
      "text/plain": [
       "   botId  chatUserId  projectId                     startAt  \\\n",
       "0    348        3133          1  2023-07-07 15:19:19.108000   \n",
       "1    348        3133          1  2023-07-14 14:39:49.302000   \n",
       "2    348        3415          1  2023-07-12 21:08:55.726000   \n",
       "3    348        3460          1  2023-07-19 15:51:06.854000   \n",
       "4    348        3466          1  2023-10-30 09:16:41.834000   \n",
       "\n",
       "                        endAt dialog  dialogueCount  botTypeId      ToDate  \n",
       "0  2023-07-07 15:21:06.535000      1              6          2  2023-07-07  \n",
       "1  2023-07-14 14:39:55.801000      1              3          2  2023-07-14  \n",
       "2  2023-07-12 21:09:12.058000      1              2          2  2023-07-12  \n",
       "3  2023-07-19 15:51:16.148000      1              2          2  2023-07-19  \n",
       "4  2023-10-30 09:16:51.739000      1              3          2  2023-10-30  "
      ]
     },
     "execution_count": 15,
     "metadata": {},
     "output_type": "execute_result"
    }
   ],
   "source": [
    "df_st.reset_index(drop=True,inplace=True)\n",
    "df_st.head()"
   ]
  },
  {
   "cell_type": "code",
   "execution_count": 16,
   "id": "8922919f-1aea-4d6e-9d0d-a75ea4e52f08",
   "metadata": {},
   "outputs": [
    {
     "data": {
      "text/plain": [
       "Timedelta('-1 days +23:58:12')"
      ]
     },
     "execution_count": 16,
     "metadata": {},
     "output_type": "execute_result"
    }
   ],
   "source": [
    "df_st['startAt'][0].round(freq='S')-df_st['endAt'][0].round(freq='S')"
   ]
  },
  {
   "cell_type": "code",
   "execution_count": 17,
   "id": "376f63f5-71e8-4a8c-a833-426c6ad7e9f3",
   "metadata": {},
   "outputs": [],
   "source": [
    "from datetime import datetime, timedelta\n",
    "from decimal import Decimal\n",
    "\n",
    "#일별 세션 타임 SesTime\n",
    "# df_st['endAt']=df_st['endAt'].apply(lambda x:x.round(freq='S'))\n",
    "# df_st['startAt']=df_st['startAt'].apply(lambda x:x.round(freq='S'))\n",
    "df_st['SesTime']=df_st['endAt']-df_st['startAt']\n",
    "df_test=df_st.copy()"
   ]
  },
  {
   "cell_type": "code",
   "execution_count": null,
   "id": "f73bd0ec-2b7a-43c3-8e9a-7280e2cc15fe",
   "metadata": {},
   "outputs": [],
   "source": []
  },
  {
   "cell_type": "code",
   "execution_count": 18,
   "id": "57a285b9-2f5d-4065-9c10-ab725f8a6291",
   "metadata": {},
   "outputs": [],
   "source": [
    "# df_st['SesTime']=df_st['SesTime'].apply(lambda x:x.round(freq='S'))"
   ]
  },
  {
   "cell_type": "code",
   "execution_count": 19,
   "id": "b93d2f8a-1470-457e-9f21-192264d4a6a2",
   "metadata": {},
   "outputs": [],
   "source": [
    "#SesTime Decimal로 저장\n",
    "for sestime in range(len(df_st)):\n",
    "   df_st.at[sestime,'SesTime'] = df_st.at[sestime,'SesTime'].total_seconds()\n",
    "   df_st.at[sestime,'SesTime'] =Decimal(str(df_st.at[sestime,'SesTime']))\n",
    "# for sestime in range(len(df_st)):\n",
    "#     if (str(df_st.at[sestime,'SesTime'])=='0 days 00:00:00'):\n",
    "#         df_st.at[sestime,'SesTime']= None\n",
    "#     else:\n",
    "#         pass\n",
    "        \n",
    "# df_day['SesTime']=df_st.groupby(['ToDate','projectId','botTypeId'],as_index=False)['SesTime'].mean()['SesTime']\n",
    "\n",
    "# df_test=df_day.copy()"
   ]
  },
  {
   "cell_type": "code",
   "execution_count": 20,
   "id": "4c331db2-a0d6-4676-b815-3de417973cce",
   "metadata": {},
   "outputs": [],
   "source": [
    "df_test=df_st.copy()"
   ]
  },
  {
   "cell_type": "code",
   "execution_count": 21,
   "id": "51fbfb24-cf52-4e9c-a60d-71a74b96650d",
   "metadata": {},
   "outputs": [],
   "source": [
    "df_test['SesTime']=df_test['SesTime'].astype(int)"
   ]
  },
  {
   "cell_type": "code",
   "execution_count": 22,
   "id": "f72c0039-c2fd-45a2-8184-ea272125acb7",
   "metadata": {},
   "outputs": [],
   "source": [
    "for sestime in range(len(df_st)):\n",
    "    if (str(df_st.at[sestime,'SesTime'])=='0.0'):\n",
    "        df_st.at[sestime,'SesTime']= None\n",
    "    if (df_test.at[sestime, 'SesTime'] > 1800):\n",
    "        df_st.at[sestime, 'SesTime'] = 1800\n",
    "    else:\n",
    "        pass"
   ]
  },
  {
   "cell_type": "code",
   "execution_count": 23,
   "id": "16c54ed4-9b85-46a4-84e7-5379d1cce8ce",
   "metadata": {},
   "outputs": [],
   "source": [
    "df_stt=df_st.sort_values('ToDate')"
   ]
  },
  {
   "cell_type": "code",
   "execution_count": 24,
   "id": "ed410264-2cf5-45be-b730-5a9486a038fe",
   "metadata": {},
   "outputs": [],
   "source": [
    "df_day['SesTime']=df_st.groupby(['ToDate','botId','projectId','botTypeId'],as_index=False)['SesTime'].sum()['SesTime']"
   ]
  },
  {
   "cell_type": "code",
   "execution_count": 25,
   "id": "1e1a1317-d2d2-425b-95d3-7bd81bf95566",
   "metadata": {},
   "outputs": [],
   "source": [
    "df_day['botCount']=df_st.groupby(['ToDate','botId','projectId','botTypeId'],as_index=False)['SesTime'].count()['SesTime']"
   ]
  },
  {
   "cell_type": "code",
   "execution_count": null,
   "id": "4404b226-be60-46d7-a7a5-d62bcb464ab4",
   "metadata": {},
   "outputs": [],
   "source": []
  },
  {
   "cell_type": "code",
   "execution_count": 26,
   "id": "cb8dee5f-655d-4601-9514-75a4a4216246",
   "metadata": {},
   "outputs": [],
   "source": [
    "df_st['dup']=df_st.duplicated(subset=['botId','projectId','chatUserId'])"
   ]
  },
  {
   "cell_type": "code",
   "execution_count": 27,
   "id": "a0bdc6c1-a30c-4eee-b075-1c3f54298978",
   "metadata": {},
   "outputs": [
    {
     "name": "stderr",
     "output_type": "stream",
     "text": [
      "/tmp/ipykernel_1679457/3815981404.py:3: FutureWarning: Setting an item of incompatible dtype is deprecated and will raise in a future error of pandas. Value '1' has dtype incompatible with bool, please explicitly cast to a compatible dtype first.\n",
      "  df_st.at[idx,'dup']=1\n"
     ]
    }
   ],
   "source": [
    "for idx in range(len(df_st)):\n",
    "    if(df_st.at[idx,'dup']==False):\n",
    "        df_st.at[idx,'dup']=1\n",
    "    else:\n",
    "        df_st.at[idx,'dup']=0"
   ]
  },
  {
   "cell_type": "code",
   "execution_count": 28,
   "id": "2b0ec03d-b950-41a9-b12c-f2c8c5e535e7",
   "metadata": {},
   "outputs": [],
   "source": [
    "##일별 신규 유저 수 NewUsrCnt\n",
    "df_day['NewUsrCnt']=df_st.groupby(by=['ToDate','botId','projectId','botTypeId'],as_index=False)['dup'].sum()['dup']\n",
    "\n",
    "##누적 신규 유저 수 AccNewUsrCnt\n",
    "df_day['AccNewUsrCnt']=df_day['NewUsrCnt'].cumsum()"
   ]
  },
  {
   "cell_type": "code",
   "execution_count": 29,
   "id": "98381689-7410-4d5f-9bf0-77210ea241d0",
   "metadata": {},
   "outputs": [],
   "source": [
    "df_day = df_day.fillna(0.0)"
   ]
  },
  {
   "cell_type": "code",
   "execution_count": 31,
   "id": "923b4f1b-1b73-4445-8bfd-fa71f54f9df0",
   "metadata": {},
   "outputs": [],
   "source": [
    "for i in range(len(df_day)):\n",
    "    query = \"INSERT INTO StaticDaily(ToDate,botId,projectId,botTypeId,botCount,createdId,updatedId,DayChtCnt,AccChtCnt,DayUsrCnt,DaysesCnt,AccSesCnt,NewUsrCnt,AccNewUsrCnt,SesTime) VALUES (%s,%s,%s,%s,%s,%s,%s,%s,%s,%s,%s,%s,%s,%s,%s)\"\n",
    "    values = df_day['ToDate'][i], df_day['botId'][i], df_day['projectId'][i], df_day['botTypeId'][i],df_day['botCount'][i],1,1,df_day['DayChtCnt'][i],df_day['AccChtCnt'][i], df_day['DayUsrCnt'][i], df_day['DaySesCnt'][i], df_day['AccSesCnt'][i], df_day['NewUsrCnt'][i], df_day['AccNewUsrCnt'][i], df_day['SesTime'][i]\n",
    "    cursor.execute(query,values)\n",
    "    conn.commit()"
   ]
  },
  {
   "cell_type": "code",
   "execution_count": 32,
   "id": "143607e9-4950-4b40-bce8-4921a2694e5b",
   "metadata": {},
   "outputs": [
    {
     "data": {
      "text/plain": [
       "'\\nweek\\n'"
      ]
     },
     "execution_count": 32,
     "metadata": {},
     "output_type": "execute_result"
    }
   ],
   "source": [
    "'''\n",
    "week\n",
    "'''"
   ]
  },
  {
   "cell_type": "code",
   "execution_count": 33,
   "id": "d15c7373-5b0b-45f4-a7d5-d3eabcaa9ded",
   "metadata": {},
   "outputs": [],
   "source": [
    "df_st = df_day\n",
    "df_st['week'] = df_day['ToDate']\n",
    "df_test['week'] = df_day['ToDate']\n",
    "for week in range(len(df_st)):\n",
    "    df_st.at[week,'week']=df_day['ToDate'][week].isocalendar()[1]  \n",
    "    df_test.at[week,'week']=df_day['ToDate'][week].isocalendar()[1]  \n",
    "\n",
    "df_st['day']=df_st['ToDate']\n",
    "df_test['day']=df_st['ToDate']"
   ]
  },
  {
   "cell_type": "code",
   "execution_count": 34,
   "id": "3fbfd263-2e24-4bc3-87e6-2f1936e57760",
   "metadata": {},
   "outputs": [],
   "source": [
    "df_week = df_st.groupby(by=['ToDate','day','week','projectId','botId','botTypeId'],as_index=False).first()\n",
    "df_week=df_week.drop(columns=['DayChtCnt','DayUsrCnt','AccChtCnt','DaySesCnt','AccSesCnt','AccNewUsrCnt','NewUsrCnt'])"
   ]
  },
  {
   "cell_type": "code",
   "execution_count": 35,
   "id": "4fe805e4-1071-4a41-ada6-f8f75f0344e7",
   "metadata": {},
   "outputs": [],
   "source": [
    "## WeekChtCnt 주별 대화 수 \n",
    "df_week['WeekChtCnt'] = df_st.groupby(by=['day','week','projectId','botId','botTypeId'],as_index=False)['DayChtCnt'].sum()['DayChtCnt']\n",
    "## WeekUsrCnt 주별 활성 이용자\n",
    "df_week['WeekUsrCnt']=df_st.groupby(by=['day','week','projectId','botId','botTypeId'],as_index=False)['DayUsrCnt'].sum()['DayUsrCnt']\n",
    "## WeekSesCnt 주별 세션 수 \n",
    "df_week['WeekSesCnt']=df_st.groupby(by=['day','week','projectId','botId','botTypeId'],as_index=False)['DaySesCnt'].sum()['DaySesCnt']\n",
    "## WeekNewUsr 주별 신규 유저 수 \n",
    "df_week['WeekNewUsr']=df_st.groupby(by=['day','week','projectId','botId','botTypeId'],as_index=False)['NewUsrCnt'].sum()['NewUsrCnt']\n",
    "# df_week=df_week.sort_values('day')\n",
    "df_week=df_week.reset_index(drop=True)"
   ]
  },
  {
   "cell_type": "code",
   "execution_count": 36,
   "id": "11dfcee3-fef3-48d0-86e5-2b5094848efd",
   "metadata": {},
   "outputs": [],
   "source": [
    "#EndDate\n",
    "from pandas.tseries.offsets import *\n",
    "df_week['ToDate'][0]+Week(weekday=0)\n",
    "# df_week['week'] = pd.to_datetime(df_week['week'])\n",
    "\n",
    "for date in range(len(df_week)):\n",
    "    if(df_week.at[date,'week']!=20):\n",
    "        df_week.at[date,'EndDate']=df_week.at[date,'ToDate']+Week(weekday=0)+timedelta(days=-1)\n",
    "    else:\n",
    "        df_week.at[date,'EndDate']=df_week.at[date,'ToDate']+Week(weekday=6)\n",
    "    # else:\n",
    "    #     df_week.at[date,'EndDate']=df_week.at[date,'ToDate']+Week(weekday=3)\n",
    "# StartDate\n",
    "df_week.rename(columns = {'ToDate' : 'StartDate'}, inplace = True)"
   ]
  },
  {
   "cell_type": "code",
   "execution_count": 37,
   "id": "0abd7009-8cf2-4b8a-925f-1ca08d9d607e",
   "metadata": {},
   "outputs": [],
   "source": [
    "# for sestime in range(len(df_day)):\n",
    "#     # df_day.at[sestime,'SesTime'] = df_day.at[sestime,'SesTime'.total_seconds()]\n",
    "#    df_week.at[sestime,'SesTime'] = df_week.at[sestime,'SesTime'].total_seconds()\n",
    "#    df_week.at[sestime,'SesTime'] =Decimal(str(df_week.at[sestime,'SesTime']))\n",
    "#2205"
   ]
  },
  {
   "cell_type": "code",
   "execution_count": 38,
   "id": "1a955246-9b52-4c7b-8713-33ae0195eae5",
   "metadata": {},
   "outputs": [],
   "source": [
    "df_week['SesTime']=df_week.groupby(['week','botId','projectId','botTypeId'],as_index=False)['SesTime'].sum()['SesTime']\n"
   ]
  },
  {
   "cell_type": "code",
   "execution_count": null,
   "id": "cce3a01e-9f73-4473-bacb-e3ba4806e91e",
   "metadata": {},
   "outputs": [],
   "source": []
  },
  {
   "cell_type": "code",
   "execution_count": 39,
   "id": "b680fc1c-dfc1-4dfb-8dfc-9c7dd1ba6242",
   "metadata": {},
   "outputs": [],
   "source": [
    "## 주별 누적 채팅 수 \n",
    "df_week['WeekAccChtCnt']=df_week.groupby(by=['projectId','botTypeId'],as_index=False)['WeekChtCnt'].cumsum()\n",
    "## 주별 누적 활성 유저 수 \n",
    "df_week['WeekAccUsrCnt']=df_week['WeekUsrCnt'].cumsum()\n",
    "## 주별 누적 신규 유저 수 \n",
    "df_week['WeekAccNewUsr']=df_week['WeekNewUsr'].cumsum()\n",
    "## 주별 누적 세션 수 \n",
    "df_week['WeekAccSesCnt']=df_week.groupby(by=['projectId','botTypeId'],as_index=False)['WeekSesCnt'].cumsum()"
   ]
  },
  {
   "cell_type": "code",
   "execution_count": 40,
   "id": "85289180-7b9c-4638-ae2b-21e00fa7c1b7",
   "metadata": {},
   "outputs": [
    {
     "data": {
      "text/plain": [
       "1492"
      ]
     },
     "execution_count": 40,
     "metadata": {},
     "output_type": "execute_result"
    }
   ],
   "source": [
    "len(df_day)"
   ]
  },
  {
   "cell_type": "code",
   "execution_count": 41,
   "id": "85fa3382-85ea-4098-a4e1-16d7c0bf3498",
   "metadata": {},
   "outputs": [],
   "source": [
    "df_week = df_week[['week','StartDate','EndDate','botId','projectId','botTypeId','botCount','WeekChtCnt','WeekAccChtCnt','WeekUsrCnt','WeekAccUsrCnt','WeekSesCnt','WeekAccSesCnt','WeekNewUsr','WeekAccNewUsr','SesTime']]"
   ]
  },
  {
   "cell_type": "code",
   "execution_count": 42,
   "id": "b1749abe-de30-4543-ae8c-e9254ea52174",
   "metadata": {},
   "outputs": [],
   "source": [
    "df_week=df_week.fillna(0.0)"
   ]
  },
  {
   "cell_type": "code",
   "execution_count": 43,
   "id": "5db41ce8-d05e-4313-9cb6-d47518009bfb",
   "metadata": {},
   "outputs": [],
   "source": [
    "for i in range(len(df_week)):\n",
    "    query = \"INSERT INTO StaticWeekly(StartDate,EndDate,week,createdId,updatedId,botId,projectId,botTypeId,botCount,WeekChtCnt,WeekAccChtCnt,WeekUsrCnt,WeekAccUsrCnt,WeekSesCnt,WeekAccSesCnt,WeekNewUsr,WeekAccNewUsr,SesTime) VALUES (%s,%s,%s,%s,%s,%s,%s,%s,%s,%s,%s,%s,%s,%s,%s,%s,%s,%s)\"\n",
    "    values = df_week['StartDate'][i], df_week['EndDate'][i],df_week['week'][i],1,1,df_week['botId'][i],df_week['projectId'][i], df_week['botTypeId'][i],df_week['botCount'][i],df_week['WeekChtCnt'][i], df_week['WeekAccChtCnt'][i], df_week['WeekUsrCnt'][i],df_week['WeekAccUsrCnt'][i],df_week['WeekSesCnt'][i], df_week['WeekAccSesCnt'][i], df_week['WeekNewUsr'][i], df_week['WeekAccNewUsr'][i],df_week['SesTime'][i]\n",
    "    cursor.execute(query,values)\n",
    "    conn.commit()"
   ]
  },
  {
   "cell_type": "code",
   "execution_count": 44,
   "id": "7218fb69-0777-4733-8716-6cb8b50ed7c2",
   "metadata": {},
   "outputs": [],
   "source": [
    "# df_week.to_sql('StaticWeekly', con=conn, if_exists='replace', index=False)\n",
    "#1888"
   ]
  },
  {
   "cell_type": "code",
   "execution_count": 45,
   "id": "5d5a8f7e-c74e-4c11-9a16-85046d75c3c1",
   "metadata": {},
   "outputs": [
    {
     "name": "stderr",
     "output_type": "stream",
     "text": [
      "/tmp/ipykernel_1679457/4236121658.py:1: UserWarning: Boolean Series key will be reindexed to match DataFrame index.\n",
      "  df_day.loc[3:19][(df_day['projectId']==3)&(df_day['botTypeId']==2)]['botCount'].sum()\n"
     ]
    },
    {
     "data": {
      "text/plain": [
       "22"
      ]
     },
     "execution_count": 45,
     "metadata": {},
     "output_type": "execute_result"
    }
   ],
   "source": [
    "df_day.loc[3:19][(df_day['projectId']==3)&(df_day['botTypeId']==2)]['botCount'].sum()"
   ]
  }
 ],
 "metadata": {
  "kernelspec": {
   "display_name": "Python 3 (ipykernel)",
   "language": "python",
   "name": "python3"
  },
  "language_info": {
   "codemirror_mode": {
    "name": "ipython",
    "version": 3
   },
   "file_extension": ".py",
   "mimetype": "text/x-python",
   "name": "python",
   "nbconvert_exporter": "python",
   "pygments_lexer": "ipython3",
   "version": "3.10.12"
  }
 },
 "nbformat": 4,
 "nbformat_minor": 5
}
